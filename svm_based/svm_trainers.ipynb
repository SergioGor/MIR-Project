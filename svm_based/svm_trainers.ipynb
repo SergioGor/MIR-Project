{
 "cells": [
  {
   "cell_type": "code",
   "execution_count": 3,
   "metadata": {},
   "outputs": [
    {
     "name": "stdout",
     "output_type": "stream",
     "text": [
      "5_best_features: accuracy =  0.7441289784299772\n",
      "10_best_features: accuracy =  0.8090108218203235\n",
      "20_best_features: accuracy =  0.8444700743540036\n",
      "40_best_features: accuracy =  0.856494319157812\n",
      "80_best_features: accuracy =  0.8627763735859243\n",
      "84_best_features: accuracy =  0.8618684204068612\n",
      "80_best_features presented the best accuracy: 0.8627763735859243\n"
     ]
    },
    {
     "name": "stderr",
     "output_type": "stream",
     "text": [
      "/Users/sergio/miniconda3/envs/MIR-Project/lib/python3.7/site-packages/matplotlib/cbook/__init__.py:424: MatplotlibDeprecationWarning: \n",
      "Passing one of 'on', 'true', 'off', 'false' as a boolean is deprecated; use an actual boolean (True/False) instead.\n",
      "  warn_deprecated(\"2.2\", \"Passing one of 'on', 'true', 'off', 'false' as a \"\n"
     ]
    },
    {
     "data": {
      "image/png": "[encoded data removed]",
      "text/plain": [
       "<Figure size 432x288 with 1 Axes>"
      ]
     },
     "metadata": {
      "needs_background": "light"
     },
     "output_type": "display_data"
    }
   ],
   "source": [
    "import pandas as pd\n",
    "import numpy as np\n",
    "from sklearn import svm\n",
    "from sklearn import preprocessing\n",
    "from sklearn.model_selection import train_test_split\n",
    "from sklearn.feature_selection import SelectKBest, f_classif\n",
    "from sklearn.metrics import classification_report, confusion_matrix, accuracy_score\n",
    "from sklearn.metrics import precision_recall_fscore_support\n",
    "from sklearn.pipeline import Pipeline\n",
    "import time\n",
    "from sklearn.externals import joblib\n",
    "from sklearn.impute import SimpleImputer\n",
    "import matplotlib.pyplot as plt\n",
    "\n",
    "tcontext = 120\n",
    "best_accuracy = 0\n",
    "k_features = [5, 10, 20, 40, 80, 84]\n",
    "best_k = k_features[0]\n",
    "accuracies = list()\n",
    "\n",
    "\n",
    "# Load features\n",
    "features = np.load('features_tcontext_' + str(tcontext) + '_frameSize_1024.npz')\n",
    "features = features['a']\n",
    "features += np.finfo(np.float32).eps\n",
    "features = np.delete(features, 60, 1) #deletes a constant column\n",
    "features = np.delete(features, 60, 1) #deletes a constant column\n",
    "labels = features[:,-1].astype(int)\n",
    "features = features[:, :features.shape[1] - 1]\n",
    "\n",
    "with open(\"features_length.txt\", 'r') as f:\n",
    "    features_length = [line.rstrip('\\n') for line in f]\n",
    "\n",
    "features_names = list()\n",
    "for i in features_length:\n",
    "    marker = i.find(':')\n",
    "    f_name = i[:marker]\n",
    "    values = int(i[marker+2:])\n",
    "    for j in range(values):\n",
    "        features_names.append(f_name + str('_')+ str(j))\n",
    "del features_names[60:62] # deletes the feature names which are constant\n",
    "\n",
    "# Prepare data\n",
    "imputer = SimpleImputer()\n",
    "features = imputer.fit_transform(features)\n",
    "le = preprocessing.LabelEncoder()\n",
    "labels = le.fit_transform(labels)\n",
    "\n",
    "\n",
    "# Split data\n",
    "features_train, features_val, labels_train, labels_val = train_test_split(features, labels, test_size=0.2, random_state = 42)\n",
    "features_train_df = pd.DataFrame(data = features_train, columns = features_names)\n",
    "features_val_df = pd.DataFrame(data = features_val, columns = features_names)\n",
    "\n",
    "for k in k_features:\n",
    "    \n",
    "    # Select best k features\n",
    "    selector = SelectKBest(f_classif, k=k)\n",
    "    selector.fit(features_train_df, labels_train)\n",
    "    # Get columns to keep\n",
    "    cols = selector.get_support(indices=True)\n",
    "    cols = [features_names[i] for i in cols]\n",
    "    \n",
    "    # Parameters\n",
    "    estimators = [('scale', preprocessing.StandardScaler()),\n",
    "                      ('anova_filter', SelectKBest(f_classif, k=k)),\n",
    "                      ('svm', svm.SVC(decision_function_shape='ovo'))]\n",
    "    \n",
    "    clf_svm = Pipeline(estimators)\n",
    "    start = time.time()\n",
    "    \n",
    "    # Training\n",
    "    clf_svm.fit(features_train, labels_train)\n",
    "    # Validation\n",
    "    pred_svm = clf_svm.predict(features_val)\n",
    "    \n",
    "    model_filename = './tcontext_'+ str(tcontext) + '/models/svm/svm_' + str(k)  + '_best_features.sav'\n",
    "    joblib.dump(clf_svm, open(model_filename, 'wb'))\n",
    "    \n",
    "    end = time.time()\n",
    "    elapsed_time = end-start\n",
    "\n",
    "    F = open('./tcontext_'+ str(tcontext) +'/results/svm/results_kBestFeatures_' + str(k) +  '.txt','w') \n",
    "    F.write('Model trained in: ' + str(int(elapsed_time/60)) + ' minutes and ' + str(round(elapsed_time%60, 2)) + ' seconds \\n\\n')\n",
    "    F.write('K Best Features using f_classif: ' + str(k) + '\\n\\n')\n",
    "    F.write('Best features: ' + str(cols) + '\\n\\n')\n",
    "    F.write('Confusion matrix: \\n\\n')\n",
    "    F.write(str(confusion_matrix(labels_val,pred_svm)))\n",
    "    F.write('\\n\\n')\n",
    "    F.write('Classification report: \\n\\n')\n",
    "    F.write(str(classification_report(labels_val,pred_svm)))\n",
    "    F.write('\\n\\n')\n",
    "    F.write('Accuracy: ' + str(accuracy_score(labels_val, pred_svm)))\n",
    "    F.close()\n",
    "    \n",
    "    # Update best accuracy if improved\n",
    "    if (accuracy_score(labels_val, pred_svm) > best_accuracy):\n",
    "        best_accuracy = accuracy_score(labels_val, pred_svm)\n",
    "        best_k = k\n",
    "    accuracies.append(accuracy_score(labels_val, pred_svm))\n",
    "    print(str(k) + '_best_features: accuracy =  ' + str(accuracy_score(labels_val, pred_svm)))\n",
    "\n",
    "fig = plt.figure()\n",
    "ax = plt.subplot(111)\n",
    "plt.plot(k_features, accuracies)\n",
    "plt.xlabel('k-best features')\n",
    "plt.ylabel('accuracy')\n",
    "ax.grid(True)\n",
    "plt.savefig('./tcontext_' + str(tcontext) + '/results/svm/accuracies.png', bbox_inches='tight')\n",
    "\n",
    "print(str(best_k) + '_best_features presented the best accuracy: ' + str(best_accuracy))\n",
    "F_best = open('./tcontext_' + str(tcontext) + '/results/svm/best_svm_model.txt','w')\n",
    "F_best.write(str(best_k) + '_best_features presented the best accuracy: ' + str(best_accuracy))\n",
    "F_best.close()"
   ]
  },
  {
   "cell_type": "code",
   "execution_count": null,
   "metadata": {},
   "outputs": [],
   "source": []
  }
 ],
 "metadata": {
  "kernelspec": {
   "display_name": "Python 3",
   "language": "python",
   "name": "python3"
  },
  "language_info": {
   "codemirror_mode": {
    "name": "ipython",
    "version": 3
   },
   "file_extension": ".py",
   "mimetype": "text/x-python",
   "name": "python",
   "nbconvert_exporter": "python",
   "pygments_lexer": "ipython3",
   "version": "3.6.7"
  }
 },
 "nbformat": 4,
 "nbformat_minor": 2
}
