{
 "cells": [
  {
   "cell_type": "code",
   "execution_count": 2,
   "metadata": {},
   "outputs": [
    {
     "ename": "ImportError",
     "evalue": "No module named xgboost",
     "output_type": "error",
     "traceback": [
      "\u001b[0;31m---------------------------------------------------------------------------\u001b[0m",
      "\u001b[0;31mImportError\u001b[0m                               Traceback (most recent call last)",
      "\u001b[0;32m<ipython-input-2-2399244cd4f2>\u001b[0m in \u001b[0;36m<module>\u001b[0;34m()\u001b[0m\n\u001b[1;32m      9\u001b[0m \u001b[0;32mfrom\u001b[0m \u001b[0msklearn\u001b[0m\u001b[0;34m.\u001b[0m\u001b[0mmetrics\u001b[0m \u001b[0;32mimport\u001b[0m \u001b[0mprecision_recall_fscore_support\u001b[0m\u001b[0;34m\u001b[0m\u001b[0m\n\u001b[1;32m     10\u001b[0m \u001b[0;32mfrom\u001b[0m \u001b[0msklearn\u001b[0m\u001b[0;34m.\u001b[0m\u001b[0mpipeline\u001b[0m \u001b[0;32mimport\u001b[0m \u001b[0mPipeline\u001b[0m\u001b[0;34m\u001b[0m\u001b[0m\n\u001b[0;32m---> 11\u001b[0;31m \u001b[0;32mimport\u001b[0m \u001b[0mxgboost\u001b[0m \u001b[0;32mas\u001b[0m \u001b[0mxgb\u001b[0m\u001b[0;34m\u001b[0m\u001b[0m\n\u001b[0m\u001b[1;32m     12\u001b[0m \u001b[0;34m\u001b[0m\u001b[0m\n\u001b[1;32m     13\u001b[0m \u001b[0mfeatures\u001b[0m \u001b[0;34m=\u001b[0m \u001b[0mnp\u001b[0m\u001b[0;34m.\u001b[0m\u001b[0mload\u001b[0m\u001b[0;34m(\u001b[0m\u001b[0;34m'features_tcontext_120_frameSize_1024.npz'\u001b[0m\u001b[0;34m)\u001b[0m\u001b[0;34m\u001b[0m\u001b[0m\n",
      "\u001b[0;31mImportError\u001b[0m: No module named xgboost"
     ]
    }
   ],
   "source": [
    "import pandas as pd\n",
    "import pickle\n",
    "import numpy as np\n",
    "from sklearn import svm\n",
    "from sklearn import preprocessing\n",
    "from sklearn.model_selection import StratifiedKFold, train_test_split, GridSearchCV\n",
    "from sklearn.feature_selection import SelectKBest, chi2, f_classif\n",
    "from sklearn.metrics import classification_report, confusion_matrix, accuracy_score\n",
    "from sklearn.metrics import precision_recall_fscore_support\n",
    "from sklearn.pipeline import Pipeline\n",
    "import xgboost as xgb\n",
    "\n",
    "features = np.load('features_tcontext_120_frameSize_1024.npz')\n",
    "features = features['a']\n",
    "features += np.finfo(np.float32).eps\n",
    "\n",
    "\n",
    "features = features[:10000,:]\n",
    "labels = features[:,-1].astype(int)\n",
    "features = features[:, :features.shape[1] - 1]\n",
    "\n",
    "\n",
    "\n",
    "with open(\"features_length.txt\", 'r') as f:\n",
    "    features_length = [line.rstrip('\\n') for line in f]\n",
    "\n",
    "features_names = list()\n",
    "for i in features_length:\n",
    "    marker = i.find(':')\n",
    "    f_name = i[:marker]\n",
    "    values = int(i[marker+2:])\n",
    "    for j in range(values):\n",
    "        features_names.append(f_name + str('_')+ str(j))\n",
    "\n",
    "inputer = preprocessing.Imputer()\n",
    "features = inputer.fit_transform(features)\n",
    "\n",
    "le = preprocessing.LabelEncoder()\n",
    "labels = le.fit_transform(labels)\n",
    "\n",
    "estimators = [(\"scale\", preprocessing.StandardScaler()),\n",
    "                  ('anova_filter', SelectKBest(f_classif, k=86)),\n",
    "                  ('svm', svm.SVC(decision_function_shape='ovo'))]\n",
    "clf = Pipeline(estimators)"
   ]
  },
  {
   "cell_type": "code",
   "execution_count": null,
   "metadata": {},
   "outputs": [],
   "source": [
    "features_train, features_val, labels_train, labels_val = train_test_split(features, labels, test_size=0.2, random_state = 42)\n",
    "features_train_df = pd.DataFrame(data = features_train, columns = features_names)\n",
    "features_val_df = pd.DataFrame(data = features_val, columns = features_names)\n",
    "\n"
   ]
  },
  {
   "cell_type": "code",
   "execution_count": null,
   "metadata": {},
   "outputs": [],
   "source": [
    "clf.fit(features_train, labels_train)\n",
    "pred = clf.predict(features_val)"
   ]
  },
  {
   "cell_type": "code",
   "execution_count": null,
   "metadata": {},
   "outputs": [],
   "source": [
    "print('Accuracy: ' + str(accuracy_score(labels_val, pred)))\n",
    "\n"
   ]
  },
  {
   "cell_type": "code",
   "execution_count": null,
   "metadata": {},
   "outputs": [],
   "source": [
    "def grid_search(clf, X, y):\n",
    "    params = dict(anova_filter__k=[10, 86],\n",
    "                  svm__kernel=['rbf'], svm__C=[0.1],\n",
    "                  svm__degree=[1], svm__gamma=[0.01])\n",
    "    gs = GridSearchCV(clf, param_grid=params, cv=10, verbose=2)\n",
    "    gs.fit(X, y)\n",
    "    print \"Best estimator:\"\n",
    "    print gs.best_estimator_\n",
    "    print \"Best parameters:\"\n",
    "    print gs.best_params_\n",
    "    print \"Best score:\"\n",
    "    print gs.best_score_\n",
    "\n",
    "    #y_pred = gs.predict(X)\n",
    "    #y_test = y\n",
    "\n",
    "\n",
    "grid_search(clf, features, labels)\n"
   ]
  },
  {
   "cell_type": "code",
   "execution_count": null,
   "metadata": {},
   "outputs": [],
   "source": [
    "estimators = [(\"scale\", preprocessing.StandardScaler()),\n",
    "                  ('anova_filter', SelectKBest(f_classif, k=86)),\n",
    "                  ('xgb', xgb.XGBClassifier(max_depth=3, n_estimators=300, learning_rate=0.1))]\n",
    "clf = Pipeline(estimators)"
   ]
  },
  {
   "cell_type": "code",
   "execution_count": null,
   "metadata": {},
   "outputs": [],
   "source": []
  }
 ],
 "metadata": {
  "kernelspec": {
   "display_name": "Python 3",
   "language": "python",
   "name": "python3"
  },
  "language_info": {
   "codemirror_mode": {
    "name": "ipython",
    "version": 2
   },
   "file_extension": ".py",
   "mimetype": "text/x-python",
   "name": "python",
   "nbconvert_exporter": "python",
   "pygments_lexer": "ipython2",
   "version": "2.7.16"
  }
 },
 "nbformat": 4,
 "nbformat_minor": 2
}
