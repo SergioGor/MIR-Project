{
 "cells": [
  {
   "cell_type": "markdown",
   "metadata": {},
   "source": [
    "# Load models"
   ]
  },
  {
   "cell_type": "code",
   "execution_count": 5,
   "metadata": {},
   "outputs": [],
   "source": [
    "from sklearn.externals import joblib\n",
    "import numpy as np\n",
    "from sklearn.model_selection import train_test_split\n",
    "from sklearn.metrics import classification_report, confusion_matrix, accuracy_score\n",
    "\n",
    "\n",
    "tcontext = 120\n",
    "# Load features and labels\n",
    "features = np.load('features_tcontext_' + str(tcontext) + '_frameSize_1024.npz')\n",
    "features = features['a']\n",
    "features += np.finfo(np.float32).eps\n",
    "features = np.delete(features, 60, 1) #deletes a constant column\n",
    "features = np.delete(features, 60, 1) #deletes a constant column\n",
    "labels = features[:,-1].astype(int)\n",
    "features = features[:, :features.shape[1] - 1]\n",
    "\n",
    "# Load best models\n",
    "best_xgb = './tcontext_120/models/xgb/xgb_learningRate_0.5_kBestFeatures_84.sav'\n",
    "clf_xgb = joblib.load(best_xgb)\n",
    "best_svm = './tcontext_120/models/svm/svm_best_model.sav'\n",
    "clf_svm = joblib.load(best_svm)\n",
    "\n",
    "# Split data\n",
    "features_train, features_val, labels_train, labels_val = train_test_split(features, labels, test_size=0.2, random_state = 42)\n",
    "# Predict data\n",
    "pred_xgb = clf_xgb.predict(features_val)\n",
    "pred_svm = clf_svm.predict(features_val)\n",
    "\n"
   ]
  },
  {
   "cell_type": "markdown",
   "metadata": {},
   "source": [
    "# SVM classifier accuracy"
   ]
  },
  {
   "cell_type": "code",
   "execution_count": 6,
   "metadata": {},
   "outputs": [
    {
     "data": {
      "text/plain": [
       "0.8618684204068612"
      ]
     },
     "execution_count": 6,
     "metadata": {},
     "output_type": "execute_result"
    }
   ],
   "source": [
    "accuracy_score(labels_val, pred_svm)"
   ]
  },
  {
   "cell_type": "markdown",
   "metadata": {},
   "source": [
    "# XGB classifier accuracy"
   ]
  },
  {
   "cell_type": "code",
   "execution_count": 7,
   "metadata": {},
   "outputs": [
    {
     "data": {
      "text/plain": [
       "0.899339893499546"
      ]
     },
     "execution_count": 7,
     "metadata": {},
     "output_type": "execute_result"
    }
   ],
   "source": [
    "accuracy_score(labels_val, pred_xgb)"
   ]
  }
 ],
 "metadata": {
  "kernelspec": {
   "display_name": "Python 3",
   "language": "python",
   "name": "python3"
  },
  "language_info": {
   "codemirror_mode": {
    "name": "ipython",
    "version": 3
   },
   "file_extension": ".py",
   "mimetype": "text/x-python",
   "name": "python",
   "nbconvert_exporter": "python",
   "pygments_lexer": "ipython3",
   "version": "3.6.7"
  }
 },
 "nbformat": 4,
 "nbformat_minor": 2
}
