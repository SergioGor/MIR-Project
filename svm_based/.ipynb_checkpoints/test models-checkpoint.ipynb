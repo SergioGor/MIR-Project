{
 "cells": [
  {
   "cell_type": "code",
   "execution_count": null,
   "metadata": {},
   "outputs": [],
   "source": [
    "from sklearn.externals import joblib\n",
    "import numpy as np\n",
    "from sklearn.model_selection import train_test_split\n",
    "from sklearn.metrics import classification_report, confusion_matrix, accuracy_score\n",
    "\n",
    "\n",
    "tcontext = 120\n",
    "# Load features and labels\n",
    "features = np.load('features_tcontext_' + str(tcontext) + '_frameSize_1024.npz')\n",
    "features = features['a']\n",
    "features += np.finfo(np.float32).eps\n",
    "labels = features[:,-1].astype(int)\n",
    "features = features[:, :features.shape[1] - 1]\n",
    "        \n",
    "best_xgb = './tcontext_120/models/xgb/xgb_learningRate_0.5_kBestFeatures_86.sav'\n",
    "clf_xgb = joblib.load(best_xgb)\n",
    "\n",
    "best_svm = './tcontext_120/models/svm/svm_86_best_features.sav'\n",
    "clf_svm = joblib.load(best_svm)\n",
    "\n",
    "features_train, features_val, labels_train, labels_val = train_test_split(features, labels, test_size=0.2, random_state = 42)\n",
    "\n",
    "pred_xgb = clf_xgb.predict(features_val)\n",
    "pred_svm = clf_svm.predict(features_val)\n",
    "\n",
    "\n",
    "\n"
   ]
  },
  {
   "cell_type": "code",
   "execution_count": null,
   "metadata": {},
   "outputs": [],
   "source": []
  }
 ],
 "metadata": {
  "kernelspec": {
   "display_name": "Python 3",
   "language": "python",
   "name": "python3"
  },
  "language_info": {
   "codemirror_mode": {
    "name": "ipython",
    "version": 2
   },
   "file_extension": ".py",
   "mimetype": "text/x-python",
   "name": "python",
   "nbconvert_exporter": "python",
   "pygments_lexer": "ipython2",
   "version": "2.7.16"
  }
 },
 "nbformat": 4,
 "nbformat_minor": 2
}
