{
 "cells": [
  {
   "cell_type": "code",
   "execution_count": 31,
   "metadata": {},
   "outputs": [
    {
     "data": {
      "image/png": "[encoded data removed]",
      "text/plain": [
       "<Figure size 432x288 with 1 Axes>"
      ]
     },
     "metadata": {
      "needs_background": "light"
     },
     "output_type": "display_data"
    }
   ],
   "source": [
    "import pandas as pd\n",
    "import numpy as np\n",
    "from sklearn import preprocessing\n",
    "from sklearn.model_selection import train_test_split\n",
    "from sklearn.feature_selection import SelectKBest, f_classif\n",
    "from sklearn.metrics import classification_report, confusion_matrix, accuracy_score\n",
    "from sklearn.metrics import precision_recall_fscore_support\n",
    "from sklearn.pipeline import Pipeline\n",
    "import xgboost as xgb\n",
    "import time\n",
    "from sklearn.externals import joblib\n",
    "from sklearn.impute import SimpleImputer\n",
    "import matplotlib.pyplot as plt\n",
    "\n",
    "# Init plot\n",
    "fig = plt.figure()\n",
    "ax = plt.subplot(111)\n",
    "\n",
    "tcontext = 120\n",
    "best_accuracy = 0\n",
    "best_lr = 0.1\n",
    "k_features = [5, 10, 20, 40, 80, 84]\n",
    "best_k = k_features[0]\n",
    "\n",
    "# Load features and labels\n",
    "features = np.load('features_tcontext_' + str(tcontext) + '_frameSize_1024.npz')\n",
    "features = features['a']\n",
    "features += np.finfo(np.float32).eps\n",
    "features = np.delete(features, 60, 1) #deletes a constant column\n",
    "features = np.delete(features, 60, 1) #deletes a constant column\n",
    "labels = features[:,-1].astype(int)\n",
    "features = features[:, :features.shape[1] - 1]\n",
    "\n",
    "with open(\"features_length.txt\", 'r') as f:\n",
    "    features_length = [line.rstrip('\\n') for line in f]\n",
    "\n",
    "features_names = list()\n",
    "for i in features_length:\n",
    "    marker = i.find(':')\n",
    "    f_name = i[:marker]\n",
    "    values = int(i[marker+2:])\n",
    "    for j in range(values):\n",
    "        features_names.append(f_name + str('_')+ str(j))\n",
    "del features_names[60] # deletes the feature which is constant\n",
    "\n",
    "\n",
    "features_names = features_names.\n",
    "# Prepare data       \n",
    "imputer = SimpleImputer()\n",
    "features = imputer.fit_transform(features)\n",
    "le = preprocessing.LabelEncoder()\n",
    "labels = le.fit_transform(labels)\n",
    "\n",
    "# Split data\n",
    "features_train, features_val, labels_train, labels_val = train_test_split(features, labels, test_size=0.2, random_state = 42)\n",
    "features_train_df = pd.DataFrame(data = features_train, columns = features_names)\n",
    "features_val_df = pd.DataFrame(data = features_val, columns = features_names)\n",
    "    \n",
    "for k in k_features:\n"
   ]
  },
  {
   "cell_type": "code",
   "execution_count": null,
   "metadata": {
    "scrolled": true
   },
   "outputs": [
    {
     "name": "stdout",
     "output_type": "stream",
     "text": [
      "learning rate = 0.01 and 5_best_features: accuracy =  0.7461902775392015\n",
      "learning rate = 0.1 and 5_best_features: accuracy =  0.7710731025005522\n",
      "learning rate = 0.2 and 5_best_features: accuracy =  0.7783858064832765\n",
      "learning rate = 0.3 and 5_best_features: accuracy =  0.7788029741601433\n",
      "learning rate = 0.5 and 5_best_features: accuracy =  0.7780667959068489\n",
      "learning rate = 0.7 and 5_best_features: accuracy =  0.7771097641775662\n",
      "learning rate = 1 and 5_best_features: accuracy =  0.7726190768324703\n",
      "learning rate = 0.01 and 10_best_features: accuracy =  0.7909989938897205\n",
      "learning rate = 0.1 and 10_best_features: accuracy =  0.8301882162400923\n",
      "learning rate = 0.2 and 10_best_features: accuracy =  0.8381880199258914\n",
      "learning rate = 0.3 and 10_best_features: accuracy =  0.841255429314618\n",
      "learning rate = 0.5 and 10_best_features: accuracy =  0.840740104537312\n",
      "learning rate = 0.7 and 10_best_features: accuracy =  0.8408382616377512\n",
      "learning rate = 1 and 10_best_features: accuracy =  0.8364702706682045\n",
      "learning rate = 0.01 and 20_best_features: accuracy =  0.8071458369119776\n",
      "learning rate = 0.1 and 20_best_features: accuracy =  0.8563225442320433\n",
      "learning rate = 0.2 and 20_best_features: accuracy =  0.8648131334200387\n",
      "learning rate = 0.3 and 20_best_features: accuracy =  0.8672179823808005\n",
      "learning rate = 0.5 and 20_best_features: accuracy =  0.8692056636646953\n",
      "learning rate = 0.7 and 20_best_features: accuracy =  0.8675124536821183\n",
      "learning rate = 1 and 20_best_features: accuracy =  0.8668744325292631\n",
      "learning rate = 0.01 and 40_best_features: accuracy =  0.8174032539078796\n",
      "learning rate = 0.1 and 40_best_features: accuracy =  0.8715368948001276\n",
      "learning rate = 0.2 and 40_best_features: accuracy =  0.8816961546955903\n",
      "learning rate = 0.3 and 40_best_features: accuracy =  0.8851316532109641\n",
      "learning rate = 0.5 and 40_best_features: accuracy =  0.8869720988442001\n",
      "learning rate = 0.7 and 40_best_features: accuracy =  0.8845427106083287\n",
      "learning rate = 1 and 40_best_features: accuracy =  0.8863586169664548\n",
      "learning rate = 0.01 and 80_best_features: accuracy =  0.8263600893229613\n",
      "learning rate = 0.1 and 80_best_features: accuracy =  0.8836838359794852\n",
      "learning rate = 0.2 and 80_best_features: accuracy =  0.8927879070452259\n",
      "learning rate = 0.3 and 80_best_features: accuracy =  0.8955853844077446\n",
      "learning rate = 0.5 and 80_best_features: accuracy =  0.8982601653947142\n",
      "learning rate = 0.7 and 80_best_features: accuracy =  0.8966160339623568\n",
      "learning rate = 1 and 80_best_features: accuracy =  0.8971804372898825\n",
      "learning rate = 0.01 and 86_best_features: accuracy =  0.8258447645456554\n"
     ]
    }
   ],
   "source": [
    "\n",
    "    # Select best k features\n",
    "    selector = SelectKBest(f_classif, k=k)\n",
    "    selector.fit(features_train_df, labels_train)\n",
    "    # Get columns to keep\n",
    "    cols = selector.get_support(indices=True)\n",
    "    cols = [features_names[i] for i in cols]\n",
    "      \n",
    "    learning_rates = [0.01, 0.1, 0.2, 0.3, 0.5, 0.7, 1]\n",
    "    accuracies = list()\n",
    "    for lr in learning_rates:\n",
    "        start = time.time()\n",
    "        # Parameters \n",
    "        estimators = [(\"scale\", preprocessing.StandardScaler()),\n",
    "                      ('anova_filter', SelectKBest(f_classif, k=k)),\n",
    "                      ('xgb', xgb.XGBClassifier(max_depth=5, n_estimators=300, learning_rate=lr))]\n",
    "\n",
    "        clf_xgb = Pipeline(estimators)\n",
    "        # Training\n",
    "        clf_xgb.fit(features_train, labels_train)\n",
    "        \n",
    "        # Validation\n",
    "        pred_xgb = clf_xgb.predict(features_val)\n",
    "        \n",
    "        model_filename = './tcontext_' + str(tcontext) + '/models/xgb/xgb_learningRate_'+ str(lr) + '_kBestFeatures_' + str(k) + '.sav'\n",
    "        joblib.dump(clf_xgb, open(model_filename, 'wb'))\n",
    "\n",
    "        end = time.time()\n",
    "        elapsed_time = end-start\n",
    "\n",
    "        F = open('./tcontext_'+ str(tcontext) +'/results/xgb/results_learningRate_'+ str(lr) + '_kBestFeatures_' + str(k) +  '.txt','w') \n",
    "        F.write('Model trained in: ' + str(int(elapsed_time/60)) + ' minutes and ' + str(round(elapsed_time%60, 2)) + ' seconds \\n\\n')\n",
    "        F.write('K Best Features using f_classif: ' + str(k) + ' and a learning rate of: '+ str(lr) +'\\n\\n')\n",
    "        F.write('Best features: ' + str(cols) + '\\n\\n')\n",
    "        F.write('Confusion matrix: \\n\\n')\n",
    "        F.write(str(confusion_matrix(labels_val,pred_xgb)))\n",
    "        F.write('\\n\\n')\n",
    "        F.write('Classification report: \\n\\n')\n",
    "        F.write(str(classification_report(labels_val,pred_xgb)))\n",
    "        F.write('\\n\\n')\n",
    "        F.write('Accuracy: ' + str(accuracy_score(labels_val, pred_xgb)))\n",
    "        F.close()\n",
    "        \n",
    "        # Update best_accuracy if improved\n",
    "        if (accuracy_score(labels_val, pred_xgb) > best_accuracy):\n",
    "            best_accuracy = accuracy_score(labels_val, pred_xgb)\n",
    "            best_k = k\n",
    "            best_lr = lr\n",
    "        accuracies.append(accuracy_score(labels_val, pred_xgb))\n",
    "        print('learning rate = ' + str(lr) + ' and ' + str(k) + '_best_features: accuracy =  ' + str(accuracy_score(labels_val, pred_xgb)))\n",
    "    plt.plot(learning_rates, accuracies, label=str(k)+ '-best features')\n",
    "\n",
    "legend = ax.legend(bbox_to_anchor=(1, 1))\n",
    "plt.xlabel('learning rate')\n",
    "plt.ylabel('accuracy')\n",
    "ax.grid(True)\n",
    "plt.savefig('./tcontext_'+ str(tcontext) +'/results/xgb/accuracies.png', bbox_inches='tight')\n",
    "print('\\nlearnintg rate = ' + str(best_lr) + ' and ' + str(best_k) + '_best_features presented the best accuracy: ' + str(best_accuracy))\n",
    "F_best = open('./tcontext_'+ str(tcontext) +'/results/xgb/best_xgb_model.txt','w')\n",
    "F_best.write('learning rate = ' + str(best_lr) + ' and ' + str(best_k) + '_best_features presented the best accuracy: ' + str(best_accuracy))\n",
    "F_best.close()"
   ]
  },
  {
   "cell_type": "code",
   "execution_count": 8,
   "metadata": {},
   "outputs": [
    {
     "data": {
      "text/plain": [
       "array([1.00000012, 1.00000012, 1.00000012, ..., 1.00000012, 1.00000012,\n",
       "       1.00000012])"
      ]
     },
     "execution_count": 8,
     "metadata": {},
     "output_type": "execute_result"
    }
   ],
   "source": [
    "features[:,60]"
   ]
  },
  {
   "cell_type": "code",
   "execution_count": 26,
   "metadata": {},
   "outputs": [],
   "source": [
    "x = np.array([[1, 2, 3], [4, 5, 6]], np.int32)"
   ]
  },
  {
   "cell_type": "code",
   "execution_count": 30,
   "metadata": {},
   "outputs": [
    {
     "data": {
      "text/plain": [
       "(2, 3)"
      ]
     },
     "execution_count": 30,
     "metadata": {},
     "output_type": "execute_result"
    }
   ],
   "source": [
    "x.shape"
   ]
  },
  {
   "cell_type": "code",
   "execution_count": 28,
   "metadata": {},
   "outputs": [
    {
     "data": {
      "text/plain": [
       "array([[1, 2],\n",
       "       [4, 5]], dtype=int32)"
      ]
     },
     "execution_count": 28,
     "metadata": {},
     "output_type": "execute_result"
    }
   ],
   "source": [
    "np.delete(x,2,1)"
   ]
  },
  {
   "cell_type": "code",
   "execution_count": 41,
   "metadata": {},
   "outputs": [
    {
     "data": {
      "text/plain": [
       "array([3.24903801e-03, 7.40231341e-03, 8.56828503e-03, ...,\n",
       "       1.19209290e-07, 1.19209290e-07, 1.19209290e-07])"
      ]
     },
     "execution_count": 41,
     "metadata": {},
     "output_type": "execute_result"
    }
   ],
   "source": []
  },
  {
   "cell_type": "code",
   "execution_count": null,
   "metadata": {},
   "outputs": [],
   "source": [
    "fe"
   ]
  }
 ],
 "metadata": {
  "kernelspec": {
   "display_name": "Python 3",
   "language": "python",
   "name": "python3"
  },
  "language_info": {
   "codemirror_mode": {
    "name": "ipython",
    "version": 3
   },
   "file_extension": ".py",
   "mimetype": "text/x-python",
   "name": "python",
   "nbconvert_exporter": "python",
   "pygments_lexer": "ipython3",
   "version": "3.7.1"
  }
 },
 "nbformat": 4,
 "nbformat_minor": 2
}
